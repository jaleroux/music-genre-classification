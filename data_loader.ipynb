{
 "cells": [
  {
   "cell_type": "code",
   "execution_count": 1,
   "metadata": {
    "collapsed": true,
    "pycharm": {
     "is_executing": false
    }
   },
   "outputs": [],
   "source": [
    "import os\n",
    "import pandas as pd\n",
    "import urllib\n"
   ]
  },
  {
   "cell_type": "markdown",
   "source": [
    "Define data path\n"
   ],
   "metadata": {
    "collapsed": false,
    "pycharm": {
     "name": "#%% md\n",
     "is_executing": false
    }
   }
  },
  {
   "cell_type": "code",
   "execution_count": 2,
   "outputs": [],
   "source": [
    "data_dir = '/Users/james/Documents/Data/genre classification/'\n"
   ],
   "metadata": {
    "collapsed": false,
    "pycharm": {
     "name": "#%%\n",
     "is_executing": false
    }
   }
  },
  {
   "cell_type": "markdown",
   "source": [
    "Import the excel lists of the 2018 best selling tracks across all main genres \n"
   ],
   "metadata": {
    "collapsed": false
   }
  },
  {
   "cell_type": "code",
   "execution_count": 3,
   "outputs": [
    {
     "data": {
      "text/plain": "              track_name                                  guid       id  \\\n0   Too Much Information  f7e7a01b-0661-454b-81b0-daa747adf6c7  7360974   \n1           Deep Musique  12722a88-4b30-4f88-8ded-815265f2b051  9125004   \n2                  Canoa  75ceb7f7-b249-4690-a2b6-be78980f1f2f  1278170   \n3       Sun My Sweet Sun  cfdf409f-87bf-4578-b08d-555edf00bdf7  9526878   \n4  Shakti Pan feat. Sven  f9fd8216-ac2e-4b73-b4b7-2da25f74c677  8712463   \n\n        genre  \n0  Afro House  \n1  Afro House  \n2  Afro House  \n3  Afro House  \n4  Afro House  ",
      "text/html": "<div>\n<style scoped>\n    .dataframe tbody tr th:only-of-type {\n        vertical-align: middle;\n    }\n\n    .dataframe tbody tr th {\n        vertical-align: top;\n    }\n\n    .dataframe thead th {\n        text-align: right;\n    }\n</style>\n<table border=\"1\" class=\"dataframe\">\n  <thead>\n    <tr style=\"text-align: right;\">\n      <th></th>\n      <th>track_name</th>\n      <th>guid</th>\n      <th>id</th>\n      <th>genre</th>\n    </tr>\n  </thead>\n  <tbody>\n    <tr>\n      <th>0</th>\n      <td>Too Much Information</td>\n      <td>f7e7a01b-0661-454b-81b0-daa747adf6c7</td>\n      <td>7360974</td>\n      <td>Afro House</td>\n    </tr>\n    <tr>\n      <th>1</th>\n      <td>Deep Musique</td>\n      <td>12722a88-4b30-4f88-8ded-815265f2b051</td>\n      <td>9125004</td>\n      <td>Afro House</td>\n    </tr>\n    <tr>\n      <th>2</th>\n      <td>Canoa</td>\n      <td>75ceb7f7-b249-4690-a2b6-be78980f1f2f</td>\n      <td>1278170</td>\n      <td>Afro House</td>\n    </tr>\n    <tr>\n      <th>3</th>\n      <td>Sun My Sweet Sun</td>\n      <td>cfdf409f-87bf-4578-b08d-555edf00bdf7</td>\n      <td>9526878</td>\n      <td>Afro House</td>\n    </tr>\n    <tr>\n      <th>4</th>\n      <td>Shakti Pan feat. Sven</td>\n      <td>f9fd8216-ac2e-4b73-b4b7-2da25f74c677</td>\n      <td>8712463</td>\n      <td>Afro House</td>\n    </tr>\n  </tbody>\n</table>\n</div>"
     },
     "metadata": {},
     "output_type": "execute_result",
     "execution_count": 3
    }
   ],
   "source": [
    "genre_list = pd.read_csv(data_dir + 'Descriptive/Genre Definitions - All Genres.csv')\n",
    "genre_list.head()\n"
   ],
   "metadata": {
    "collapsed": false,
    "pycharm": {
     "name": "#%%\n",
     "is_executing": false
    }
   }
  },
  {
   "cell_type": "code",
   "execution_count": 4,
   "outputs": [
    {
     "data": {
      "text/plain": "(2899, 4)"
     },
     "metadata": {},
     "output_type": "execute_result",
     "execution_count": 4
    }
   ],
   "source": [
    "genre_list.shape\n"
   ],
   "metadata": {
    "collapsed": false,
    "pycharm": {
     "name": "#%%\n",
     "is_executing": false
    }
   }
  },
  {
   "cell_type": "markdown",
   "source": [
    "Populate local audio folder using genre_list data frame as control input \n"
   ],
   "metadata": {
    "collapsed": false,
    "pycharm": {
     "name": "#%% md\n"
    }
   }
  },
  {
   "cell_type": "code",
   "execution_count": 5,
   "outputs": [],
   "source": [
    "# beatport download function (given input dataframe with track name, guid, id)\n",
    "def beatport_track_downloader(track_data_frame, directory):\n",
    "    \"\"\"\n",
    "    Download the tracks in a given data frame using the track guid (column_idx 1) \n",
    "    :param track_data_frame: data_frame containing track meta data \n",
    "    :param directory: directory to download audio\n",
    "    :return: NA\n",
    "    \"\"\"\n",
    "    if not os.path.exists(directory):\n",
    "        os.makedirs(directory)\n",
    "    for index, row in genre_list.iterrows():\n",
    "        try:\n",
    "            track_url = f'https://geo-samples.beatport.com/track/{row[1]}.LOFI.mp3'\n",
    "            track_file = urllib.request.urlopen(track_url)\n",
    "            track_name = f'{row[1]}.mp3'\n",
    "            with open(directory+'/'+track_name, 'wb') as f:\n",
    "                f.write(track_file.read())\n",
    "        except:\n",
    "            print(f'track id: {track_url} does not exist')\n",
    "            pass\n"
   ],
   "metadata": {
    "collapsed": false,
    "pycharm": {
     "name": "#%%\n",
     "is_executing": false
    }
   }
  },
  {
   "cell_type": "code",
   "execution_count": 6,
   "outputs": [
    {
     "name": "stdout",
     "text": [
      "track id: https://geo-samples.beatport.com/track/dd97ae2b-89fc-444a-b563-62434ebc2b74.LOFI.mp3 does not exist\n",
      "track id: https://geo-samples.beatport.com/track/954dd6aa-cc3d-4a57-966c-8b8807aa8d55.LOFI.mp3 does not exist\n",
      "track id: https://geo-samples.beatport.com/track/71bdc5e8-ce5f-4363-9a46-cb78778c8da8.LOFI.mp3 does not exist\n",
      "track id: https://geo-samples.beatport.com/track/eea7f860-f6f4-46b9-b146-770e3934b0ef.LOFI.mp3 does not exist\n",
      "track id: https://geo-samples.beatport.com/track/2ea6b0d1-d7ea-4216-abae-8ddab5942e6b.LOFI.mp3 does not exist\n",
      "track id: https://geo-samples.beatport.com/track/5d51d2d4-fb28-4bcd-bc64-a345f71de546.LOFI.mp3 does not exist\n",
      "track id: https://geo-samples.beatport.com/track/47f6517b-ca87-4060-931f-badef3eb2ba9.LOFI.mp3 does not exist\n"
     ],
     "output_type": "stream"
    }
   ],
   "source": [
    "# run the beatport downloader\n",
    "beatport_track_downloader(genre_list, data_dir + 'Audio')"
   ],
   "metadata": {
    "collapsed": false,
    "pycharm": {
     "name": "#%%\n",
     "is_executing": false
    }
   }
  }
 ],
 "metadata": {
  "language_info": {
   "codemirror_mode": {
    "name": "ipython",
    "version": 2
   },
   "file_extension": ".py",
   "mimetype": "text/x-python",
   "name": "python",
   "nbconvert_exporter": "python",
   "pygments_lexer": "ipython2",
   "version": "2.7.6"
  },
  "kernelspec": {
   "name": "python3",
   "language": "python",
   "display_name": "Python 3"
  },
  "pycharm": {
   "stem_cell": {
    "cell_type": "raw",
    "source": [],
    "metadata": {
     "collapsed": false
    }
   }
  }
 },
 "nbformat": 4,
 "nbformat_minor": 0
}