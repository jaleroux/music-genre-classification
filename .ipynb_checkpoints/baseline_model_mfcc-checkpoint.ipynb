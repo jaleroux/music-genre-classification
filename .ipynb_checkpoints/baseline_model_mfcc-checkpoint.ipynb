{
 "cells": [
  {
   "cell_type": "code",
   "execution_count": 1,
   "metadata": {
    "pycharm": {
     "name": "#%%\n"
    }
   },
   "outputs": [
    {
     "name": "stderr",
     "output_type": "stream",
     "text": [
      "Using TensorFlow backend.\n"
     ]
    }
   ],
   "source": [
    "import os\n",
    "import numpy as np\n",
    "import random\n",
    "import librosa\n",
    "import librosa.display\n",
    "import pandas as pd\n",
    "import matplotlib.pyplot as plt\n",
    "\n",
    "import multiprocessing\n",
    "from functools import partial\n",
    "\n",
    "from keras.utils import np_utils\n",
    "\n",
    "from sklearn.model_selection import train_test_split, cross_val_score, StratifiedKFold\n",
    "from sklearn.svm import SVC\n",
    "from sklearn.linear_model import LogisticRegression\n",
    "from sklearn.ensemble import RandomForestClassifier, AdaBoostClassifier\n",
    "from sklearn.multiclass import OneVsRestClassifier\n",
    "from sklearn.tree import DecisionTreeClassifier\n",
    "from sklearn.neighbors import KNeighborsClassifier\n",
    "\n",
    "import scipy.stats as stats\n",
    "\n",
    "%matplotlib inline"
   ]
  },
  {
   "cell_type": "code",
   "execution_count": 2,
   "metadata": {},
   "outputs": [],
   "source": [
    "DATA_DIR = '/Users/james/Documents/Data/genre classification/' \n",
    "AUDIO_DIR = DATA_DIR + 'Audio' \n",
    "NPZ_DIR = DATA_DIR + 'npz'"
   ]
  },
  {
   "cell_type": "code",
   "execution_count": 3,
   "metadata": {},
   "outputs": [],
   "source": [
    "SAMPLE_RATE = 22050\n",
    "N_MFCC = 20\n",
    "POOL_SIZE = 8"
   ]
  },
  {
   "cell_type": "code",
   "execution_count": 4,
   "metadata": {},
   "outputs": [],
   "source": [
    "def get_downloaded_track_ids(directory):\n",
    "    \"\"\"\n",
    "    Collect the track_ids from the tracks that have downloaded in the specific directory\n",
    "    :return: ist of track ids\n",
    "    \"\"\"    \n",
    "    track_ids = []\n",
    "    for _, dirnames, files in os.walk(directory):\n",
    "        if dirnames == []:\n",
    "            track_ids.extend(str(file[:-4]) for file in files) # 4 spots before the '.mp3'\n",
    "    return track_ids"
   ]
  },
  {
   "cell_type": "code",
   "execution_count": 5,
   "metadata": {},
   "outputs": [],
   "source": [
    "def get_audio_path(directory, track_id):\n",
    "    \"\"\"\n",
    "    Return the path to the mp3 given the directory where the audio is stored\n",
    "    and the track ID.\n",
    "    \"\"\"\n",
    "    return os.path.join(directory, track_id + '.mp3')"
   ]
  },
  {
   "cell_type": "code",
   "execution_count": 6,
   "metadata": {},
   "outputs": [],
   "source": [
    "# get the successfully downloaded track id's  \n",
    "track_ids = get_downloaded_track_ids(AUDIO_DIR)"
   ]
  },
  {
   "cell_type": "code",
   "execution_count": 7,
   "metadata": {},
   "outputs": [],
   "source": [
    "def create_mfcc(track_id):\n",
    "    filename = get_audio_path(AUDIO_DIR, track_id)\n",
    "    y, sr = librosa.load(filename)\n",
    "    spect = librosa.feature.mfcc(y=y, sr=sr, n_mfcc=N_MFCC)\n",
    "    return spect.T  "
   ]
  },
  {
   "cell_type": "markdown",
   "metadata": {},
   "source": [
    "#### Create the data"
   ]
  },
  {
   "cell_type": "code",
   "execution_count": 8,
   "metadata": {},
   "outputs": [
    {
     "name": "stdout",
     "output_type": "stream",
     "text": [
      "{'club': 0, 'bass-other': 1}\n"
     ]
    }
   ],
   "source": [
    "# load the meta data from data transformer step\n",
    "meta_data_df = pd.read_pickle(DATA_DIR + '/meta_data.pkl')\n",
    "\n",
    "genre_target_list = meta_data_df['genre_target'].unique()\n",
    "genre_target_dict = {genre_target_list[i] : i  for i in range(0,len(genre_target_list))}\n",
    "print(genre_target_dict)"
   ]
  },
  {
   "cell_type": "code",
   "execution_count": 9,
   "metadata": {},
   "outputs": [],
   "source": [
    "def create_features_label_array(df):\n",
    "    genres = []\n",
    "    X_spect = np.empty((0, 640, N_MFCC))\n",
    "    count = 0\n",
    "    #Code skips records in case of errors\n",
    "    for index, row in df.iterrows():\n",
    "        try:\n",
    "            count += 1\n",
    "            track_id = row['guid']\n",
    "            genre = str(row['genre_target'])\n",
    "            spect = create_mfcc(track_id)\n",
    "\n",
    "            # Normalize for small shape differences\n",
    "            spect = spect[:640, :]\n",
    "            X_spect = np.append(X_spect, [spect], axis=0)\n",
    "            genres.append(genre_target_dict[genre])\n",
    "            if count % 100 == 0:\n",
    "                print(\"Currently processing: \", count)\n",
    "        except:\n",
    "            print(\"Couldn't process: \", count)\n",
    "            continue\n",
    "    y = np.array(genres)\n",
    "    return X_spect , y"
   ]
  },
  {
   "cell_type": "code",
   "execution_count": 10,
   "metadata": {},
   "outputs": [],
   "source": [
    "def parallel_feature_label_creation(df, pool_size):\n",
    "    \"\"\"\n",
    "    process the 'create_features_..' function in pools across multiple cores \n",
    "    \"\"\"\n",
    "    df_split = np.array_split(df, pool_size)\n",
    "    pool = multiprocessing.Pool(processes=pool_size)\n",
    "    results = pool.map(create_features_label_array, df_split)\n",
    "    pool.close()\n",
    "    pool.join()\n",
    "    \n",
    "    X_spect = [result[0] for result in results]\n",
    "    y = [result[1] for result in results]\n",
    "    \n",
    "    X_spect = np.vstack(X_spect)\n",
    "    y = np.concatenate(y)\n",
    "    \n",
    "    return X_spect, y"
   ]
  },
  {
   "cell_type": "code",
   "execution_count": 11,
   "metadata": {},
   "outputs": [
    {
     "name": "stdout",
     "output_type": "stream",
     "text": [
      "(2024, 4) (579, 4) (289, 4)\n"
     ]
    }
   ],
   "source": [
    "# create\n",
    "df_train = meta_data_df[meta_data_df['split'] == 'train']\n",
    "df_valid = meta_data_df[meta_data_df['split'] == 'valid']\n",
    "df_test  = meta_data_df[meta_data_df['split'] == 'test']\n",
    "\n",
    "print(df_train.shape, df_valid.shape, df_test.shape)\n"
   ]
  },
  {
   "cell_type": "code",
   "execution_count": 14,
   "metadata": {},
   "outputs": [
    {
     "name": "stdout",
     "output_type": "stream",
     "text": [
      "Currently processing:  100\n",
      "Currently processing:  100\n",
      "Currently processing:  100\n",
      "Currently processing:  100\n",
      "Currently processing:  100\n",
      "Currently processing:  100\n",
      "Currently processing:  100\n",
      "Currently processing:  100\n",
      "Currently processing:  200\n",
      "Currently processing:  200\n",
      "Currently processing:  200\n",
      "Currently processing:  200\n",
      "Currently processing:  200\n",
      "Currently processing:  200\n",
      "Currently processing:  200\n",
      "Currently processing:  200\n",
      "(2024, 640, 20) (2024,)\n"
     ]
    }
   ],
   "source": [
    "X_train, y_train = parallel_feature_label_creation(df_train, POOL_SIZE)\n",
    "print(X_train.shape, y_train.shape)\n",
    "np.savez(NPZ_DIR + '/MFC_train_array', X_train, y_train)"
   ]
  },
  {
   "cell_type": "code",
   "execution_count": 15,
   "metadata": {},
   "outputs": [
    {
     "ename": "TypeError",
     "evalue": "create_features_label_array() takes 1 positional argument but 2 were given",
     "output_type": "error",
     "traceback": [
      "\u001b[0;31m---------------------------------------------------------------------------\u001b[0m",
      "\u001b[0;31mTypeError\u001b[0m                                 Traceback (most recent call last)",
      "\u001b[0;32m<ipython-input-15-5d09105063b9>\u001b[0m in \u001b[0;36m<module>\u001b[0;34m\u001b[0m\n\u001b[0;32m----> 1\u001b[0;31m \u001b[0mX_valid\u001b[0m\u001b[0;34m,\u001b[0m \u001b[0my_valid\u001b[0m \u001b[0;34m=\u001b[0m \u001b[0mcreate_features_label_array\u001b[0m\u001b[0;34m(\u001b[0m\u001b[0mdf_valid\u001b[0m\u001b[0;34m,\u001b[0m \u001b[0mPOOL_SIZE\u001b[0m\u001b[0;34m)\u001b[0m\u001b[0;34m\u001b[0m\u001b[0;34m\u001b[0m\u001b[0m\n\u001b[0m\u001b[1;32m      2\u001b[0m \u001b[0mprint\u001b[0m\u001b[0;34m(\u001b[0m\u001b[0mX_valid\u001b[0m\u001b[0;34m.\u001b[0m\u001b[0mshape\u001b[0m\u001b[0;34m,\u001b[0m \u001b[0my_valid\u001b[0m\u001b[0;34m.\u001b[0m\u001b[0mshape\u001b[0m\u001b[0;34m)\u001b[0m\u001b[0;34m\u001b[0m\u001b[0;34m\u001b[0m\u001b[0m\n\u001b[1;32m      3\u001b[0m \u001b[0mnp\u001b[0m\u001b[0;34m.\u001b[0m\u001b[0msavez\u001b[0m\u001b[0;34m(\u001b[0m\u001b[0mNPZ_DIR\u001b[0m \u001b[0;34m+\u001b[0m \u001b[0;34m'/MFC_valid_array'\u001b[0m\u001b[0;34m,\u001b[0m \u001b[0mX_valid\u001b[0m\u001b[0;34m,\u001b[0m \u001b[0my_valid\u001b[0m\u001b[0;34m)\u001b[0m\u001b[0;34m\u001b[0m\u001b[0;34m\u001b[0m\u001b[0m\n",
      "\u001b[0;31mTypeError\u001b[0m: create_features_label_array() takes 1 positional argument but 2 were given"
     ]
    }
   ],
   "source": [
    "X_valid, y_valid = create_features_label_array(df_valid)\n",
    "print(X_valid.shape, y_valid.shape)\n",
    "np.savez(NPZ_DIR + '/MFC_valid_array', X_valid, y_valid)"
   ]
  },
  {
   "cell_type": "code",
   "execution_count": 13,
   "metadata": {},
   "outputs": [
    {
     "name": "stdout",
     "output_type": "stream",
     "text": [
      "Currently processing:  100\n",
      "Currently processing:  200\n",
      "(289, 640, 20) (289,)\n"
     ]
    }
   ],
   "source": [
    "X_test, y_test = create_features_label_array(df_test)\n",
    "print(X_test.shape, y_test.shape)\n",
    "np.savez(NPZ_DIR + '/MFC_test_array', X_test, y_test)"
   ]
  },
  {
   "cell_type": "markdown",
   "metadata": {},
   "source": [
    "### MFCC Summary Stats (each mfcc band averaged over time)"
   ]
  },
  {
   "cell_type": "code",
   "execution_count": null,
   "metadata": {},
   "outputs": [],
   "source": [
    "# mean, standard dev, skew, kurtosis, median, min, max\n",
    "def mfcc_summary(X_array):\n",
    "    stats.kurtosis(X_array, axis=1)\n",
    "    \n",
    "    return X_array"
   ]
  }
 ],
 "metadata": {
  "kernelspec": {
   "display_name": "Python 3",
   "language": "python",
   "name": "python3"
  },
  "language_info": {
   "codemirror_mode": {
    "name": "ipython",
    "version": 3
   },
   "file_extension": ".py",
   "mimetype": "text/x-python",
   "name": "python",
   "nbconvert_exporter": "python",
   "pygments_lexer": "ipython3",
   "version": "3.7.3"
  },
  "pycharm": {
   "stem_cell": {
    "cell_type": "raw",
    "metadata": {
     "collapsed": false
    },
    "source": []
   }
  }
 },
 "nbformat": 4,
 "nbformat_minor": 1
}
